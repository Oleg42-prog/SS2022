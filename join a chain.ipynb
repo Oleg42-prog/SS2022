{
 "cells": [
  {
   "cell_type": "code",
   "execution_count": 15,
   "id": "863348d9",
   "metadata": {},
   "outputs": [],
   "source": [
    "import cv2\n",
    "import numpy as np\n",
    "import pandas as pd"
   ]
  },
  {
   "cell_type": "code",
   "execution_count": 16,
   "id": "0b7b73df",
   "metadata": {},
   "outputs": [],
   "source": [
    "algo_name = 'sift'"
   ]
  },
  {
   "cell_type": "code",
   "execution_count": 17,
   "id": "48f75e23",
   "metadata": {},
   "outputs": [],
   "source": [
    "with open(f'{algo_name}_output.txt') as file:\n",
    "    lines = file.readlines()"
   ]
  },
  {
   "cell_type": "code",
   "execution_count": 18,
   "id": "1f548b20",
   "metadata": {},
   "outputs": [],
   "source": [
    "lines = list(map(lambda t: list(map(int, t[:-1].split(' ')))[::-1], lines))"
   ]
  },
  {
   "cell_type": "code",
   "execution_count": 19,
   "id": "3e523d1b",
   "metadata": {},
   "outputs": [],
   "source": [
    "from collections import Counter\n",
    "counter = Counter(np.array(lines)[:, 0])"
   ]
  },
  {
   "cell_type": "code",
   "execution_count": 20,
   "id": "e1a34455",
   "metadata": {},
   "outputs": [],
   "source": [
    "clear_lines = list(filter(lambda line: counter[line[0]] != 2, lines))"
   ]
  },
  {
   "cell_type": "code",
   "execution_count": 21,
   "id": "0a9c7eca",
   "metadata": {},
   "outputs": [],
   "source": [
    "def f(lines, x0):\n",
    "    flag = True\n",
    "    y = None\n",
    "    for line in lines:\n",
    "        if x0 == line[0]:\n",
    "            y = line[-1]\n",
    "            lines.remove(line)\n",
    "            flag = False\n",
    "            break\n",
    "    return flag, y"
   ]
  },
  {
   "cell_type": "code",
   "execution_count": 22,
   "id": "679fe702",
   "metadata": {},
   "outputs": [],
   "source": [
    "x0 = clear_lines[0][0]\n",
    "track = [x0]\n",
    "tracks = []\n",
    "while True:\n",
    "    flag, x0 = f(clear_lines, x0)\n",
    "    if flag == False:\n",
    "        track.append(x0)\n",
    "    else:\n",
    "        tracks.append(track)\n",
    "        if len(clear_lines) != 0:\n",
    "            x0 = clear_lines[0][0]\n",
    "            track = [x0]\n",
    "        else:\n",
    "            break"
   ]
  },
  {
   "cell_type": "code",
   "execution_count": 23,
   "id": "fb5ec3de",
   "metadata": {},
   "outputs": [
    {
     "data": {
      "text/plain": [
       "False"
      ]
     },
     "execution_count": 23,
     "metadata": {},
     "output_type": "execute_result"
    }
   ],
   "source": [
    "qqq = []\n",
    "for track in tracks:\n",
    "    for e in track:\n",
    "        qqq.append(e)\n",
    "len(set(qqq)) == len(qqq)"
   ]
  },
  {
   "cell_type": "code",
   "execution_count": 24,
   "id": "0d495283",
   "metadata": {},
   "outputs": [],
   "source": [
    "d = {}\n",
    "for index in range(1, len(tracks) + 1):\n",
    "    for bbox_index in tracks[index - 1]:\n",
    "        d[bbox_index] = index"
   ]
  },
  {
   "cell_type": "code",
   "execution_count": 25,
   "id": "fa7ef4bb",
   "metadata": {},
   "outputs": [],
   "source": [
    "df = pd.read_csv('data/yolov5s.csv')\n",
    "base_path = \"C:\\\\#Projects\\\\Lanit\\\\SS2022_ITS\\\\Project2\\\\dataset_20220504_1445_cut\\\\17371610\\\\\""
   ]
  },
  {
   "cell_type": "code",
   "execution_count": 26,
   "id": "161a3df5",
   "metadata": {},
   "outputs": [],
   "source": [
    "import random\n",
    "colors = []\n",
    "for i in range(1000):\n",
    "    colors.append([random.randint(0, 255), random.randint(0, 255), random.randint(0, 255)])"
   ]
  },
  {
   "cell_type": "code",
   "execution_count": 27,
   "id": "6c23b5c8",
   "metadata": {},
   "outputs": [],
   "source": [
    "def in_road(row):\n",
    "    left_line = lambda x: -0.4861111111111111 * x + 650.7777777777778\n",
    "    right_line = lambda x: 0.40669240 * x - 166.49935649\n",
    "    return (left_line(row['xmax']) <= row['ymax']) and (right_line(row['xmin']) <= row['ymin'])"
   ]
  },
  {
   "cell_type": "code",
   "execution_count": 28,
   "id": "de237884",
   "metadata": {},
   "outputs": [
    {
     "name": "stderr",
     "output_type": "stream",
     "text": [
      "100%|████████████████████████████████████████████████████████████████████████████████| 149/149 [00:41<00:00,  3.58it/s]\n"
     ]
    }
   ],
   "source": [
    "from tqdm import tqdm\n",
    "for i in tqdm(range(451, 600)):\n",
    "    image_name = f'{i:010}.tiff'\n",
    "    selected_df = df[df['frame'] == image_name]\n",
    "    image = cv2.imread(base_path + image_name)\n",
    "    for index in selected_df.index.values:\n",
    "        if index in d:            \n",
    "            row = selected_df.loc[index]\n",
    "            color = colors[d[index]]\n",
    "            if in_road(row):\n",
    "                image = cv2.rectangle(image, (row['xmin'], row['ymin']), (row['xmax'], row['ymax']), color, 2)\n",
    "                image = cv2.putText(image, 'track' + str(d[index]), (row['xmin'], row['ymin']), cv2.FONT_HERSHEY_SIMPLEX, 1, color, 1, cv2.LINE_AA)\n",
    "    cv2.imwrite(f'tracks/{algo_name}/{i}.png', image)"
   ]
  },
  {
   "cell_type": "code",
   "execution_count": 73,
   "id": "08612f0a",
   "metadata": {},
   "outputs": [],
   "source": [
    "images_names = {f'{i:010}.tiff': (i - 450) for i in range(451, 501)}\n",
    "df['index'] = df.index\n",
    "short_df = df[np.array(list(map(lambda i: i in d.keys(), df['index'].values)))].copy()\n",
    "short_df['track_id'] = df['index'].map(d)\n",
    "short_df['track_id'] = short_df['track_id'].astype(int)\n",
    "short_df['frame_index'] = short_df['frame'].map(images_names)\n",
    "short_df = short_df.dropna()\n",
    "short_df['frame_index'] = short_df['frame_index'].astype(int)"
   ]
  },
  {
   "cell_type": "code",
   "execution_count": 74,
   "id": "08133263",
   "metadata": {},
   "outputs": [],
   "source": [
    "short_df['in_road'] = short_df.apply(in_road, axis=1)\n",
    "short_df = short_df[short_df['in_road']].copy()"
   ]
  },
  {
   "cell_type": "code",
   "execution_count": 75,
   "id": "a9a4ae48",
   "metadata": {},
   "outputs": [],
   "source": [
    "short_df['width'] = (short_df['xmax'] - short_df['xmin']).astype(int)\n",
    "short_df['height'] = (short_df['ymax'] - short_df['ymin']).astype(int)\n",
    "short_df['conf'] = -1\n",
    "short_df['x'] = -1\n",
    "short_df['y'] = -1\n",
    "short_df['z'] = -1"
   ]
  },
  {
   "cell_type": "code",
   "execution_count": 76,
   "id": "93794426",
   "metadata": {},
   "outputs": [],
   "source": [
    "short_df[['frame_index', 'track_id', 'xmin', 'ymin', 'width', 'height', 'conf', 'x', 'y', 'z']].to_csv(\n",
    "    f'{algo_name}_tracks.txt', \n",
    "    sep=',',\n",
    "    index=False,\n",
    "    header=False\n",
    ")"
   ]
  },
  {
   "cell_type": "code",
   "execution_count": 77,
   "id": "cbe89017",
   "metadata": {},
   "outputs": [
    {
     "data": {
      "text/html": [
       "<div>\n",
       "<style scoped>\n",
       "    .dataframe tbody tr th:only-of-type {\n",
       "        vertical-align: middle;\n",
       "    }\n",
       "\n",
       "    .dataframe tbody tr th {\n",
       "        vertical-align: top;\n",
       "    }\n",
       "\n",
       "    .dataframe thead th {\n",
       "        text-align: right;\n",
       "    }\n",
       "</style>\n",
       "<table border=\"1\" class=\"dataframe\">\n",
       "  <thead>\n",
       "    <tr style=\"text-align: right;\">\n",
       "      <th></th>\n",
       "      <th>frame_index</th>\n",
       "      <th>track_id</th>\n",
       "      <th>xmin</th>\n",
       "      <th>ymin</th>\n",
       "      <th>width</th>\n",
       "      <th>height</th>\n",
       "      <th>conf</th>\n",
       "      <th>x</th>\n",
       "      <th>y</th>\n",
       "      <th>z</th>\n",
       "    </tr>\n",
       "  </thead>\n",
       "  <tbody>\n",
       "    <tr>\n",
       "      <th>0</th>\n",
       "      <td>1</td>\n",
       "      <td>4</td>\n",
       "      <td>1</td>\n",
       "      <td>540</td>\n",
       "      <td>361</td>\n",
       "      <td>350</td>\n",
       "      <td>-1</td>\n",
       "      <td>-1</td>\n",
       "      <td>-1</td>\n",
       "      <td>-1</td>\n",
       "    </tr>\n",
       "    <tr>\n",
       "      <th>1</th>\n",
       "      <td>1</td>\n",
       "      <td>1</td>\n",
       "      <td>1385</td>\n",
       "      <td>549</td>\n",
       "      <td>171</td>\n",
       "      <td>111</td>\n",
       "      <td>-1</td>\n",
       "      <td>-1</td>\n",
       "      <td>-1</td>\n",
       "      <td>-1</td>\n",
       "    </tr>\n",
       "    <tr>\n",
       "      <th>2</th>\n",
       "      <td>1</td>\n",
       "      <td>2</td>\n",
       "      <td>561</td>\n",
       "      <td>378</td>\n",
       "      <td>129</td>\n",
       "      <td>138</td>\n",
       "      <td>-1</td>\n",
       "      <td>-1</td>\n",
       "      <td>-1</td>\n",
       "      <td>-1</td>\n",
       "    </tr>\n",
       "    <tr>\n",
       "      <th>7</th>\n",
       "      <td>2</td>\n",
       "      <td>1</td>\n",
       "      <td>1368</td>\n",
       "      <td>540</td>\n",
       "      <td>152</td>\n",
       "      <td>101</td>\n",
       "      <td>-1</td>\n",
       "      <td>-1</td>\n",
       "      <td>-1</td>\n",
       "      <td>-1</td>\n",
       "    </tr>\n",
       "    <tr>\n",
       "      <th>10</th>\n",
       "      <td>2</td>\n",
       "      <td>2</td>\n",
       "      <td>568</td>\n",
       "      <td>385</td>\n",
       "      <td>124</td>\n",
       "      <td>138</td>\n",
       "      <td>-1</td>\n",
       "      <td>-1</td>\n",
       "      <td>-1</td>\n",
       "      <td>-1</td>\n",
       "    </tr>\n",
       "    <tr>\n",
       "      <th>...</th>\n",
       "      <td>...</td>\n",
       "      <td>...</td>\n",
       "      <td>...</td>\n",
       "      <td>...</td>\n",
       "      <td>...</td>\n",
       "      <td>...</td>\n",
       "      <td>...</td>\n",
       "      <td>...</td>\n",
       "      <td>...</td>\n",
       "      <td>...</td>\n",
       "    </tr>\n",
       "    <tr>\n",
       "      <th>546</th>\n",
       "      <td>50</td>\n",
       "      <td>49</td>\n",
       "      <td>1172</td>\n",
       "      <td>723</td>\n",
       "      <td>213</td>\n",
       "      <td>177</td>\n",
       "      <td>-1</td>\n",
       "      <td>-1</td>\n",
       "      <td>-1</td>\n",
       "      <td>-1</td>\n",
       "    </tr>\n",
       "    <tr>\n",
       "      <th>547</th>\n",
       "      <td>50</td>\n",
       "      <td>48</td>\n",
       "      <td>1037</td>\n",
       "      <td>387</td>\n",
       "      <td>63</td>\n",
       "      <td>51</td>\n",
       "      <td>-1</td>\n",
       "      <td>-1</td>\n",
       "      <td>-1</td>\n",
       "      <td>-1</td>\n",
       "    </tr>\n",
       "    <tr>\n",
       "      <th>549</th>\n",
       "      <td>50</td>\n",
       "      <td>46</td>\n",
       "      <td>521</td>\n",
       "      <td>398</td>\n",
       "      <td>65</td>\n",
       "      <td>47</td>\n",
       "      <td>-1</td>\n",
       "      <td>-1</td>\n",
       "      <td>-1</td>\n",
       "      <td>-1</td>\n",
       "    </tr>\n",
       "    <tr>\n",
       "      <th>550</th>\n",
       "      <td>50</td>\n",
       "      <td>52</td>\n",
       "      <td>322</td>\n",
       "      <td>692</td>\n",
       "      <td>218</td>\n",
       "      <td>188</td>\n",
       "      <td>-1</td>\n",
       "      <td>-1</td>\n",
       "      <td>-1</td>\n",
       "      <td>-1</td>\n",
       "    </tr>\n",
       "    <tr>\n",
       "      <th>552</th>\n",
       "      <td>50</td>\n",
       "      <td>1</td>\n",
       "      <td>1045</td>\n",
       "      <td>293</td>\n",
       "      <td>35</td>\n",
       "      <td>40</td>\n",
       "      <td>-1</td>\n",
       "      <td>-1</td>\n",
       "      <td>-1</td>\n",
       "      <td>-1</td>\n",
       "    </tr>\n",
       "  </tbody>\n",
       "</table>\n",
       "<p>361 rows × 10 columns</p>\n",
       "</div>"
      ],
      "text/plain": [
       "     frame_index  track_id  xmin  ymin  width  height  conf  x  y  z\n",
       "0              1         4     1   540    361     350    -1 -1 -1 -1\n",
       "1              1         1  1385   549    171     111    -1 -1 -1 -1\n",
       "2              1         2   561   378    129     138    -1 -1 -1 -1\n",
       "7              2         1  1368   540    152     101    -1 -1 -1 -1\n",
       "10             2         2   568   385    124     138    -1 -1 -1 -1\n",
       "..           ...       ...   ...   ...    ...     ...   ... .. .. ..\n",
       "546           50        49  1172   723    213     177    -1 -1 -1 -1\n",
       "547           50        48  1037   387     63      51    -1 -1 -1 -1\n",
       "549           50        46   521   398     65      47    -1 -1 -1 -1\n",
       "550           50        52   322   692    218     188    -1 -1 -1 -1\n",
       "552           50         1  1045   293     35      40    -1 -1 -1 -1\n",
       "\n",
       "[361 rows x 10 columns]"
      ]
     },
     "execution_count": 77,
     "metadata": {},
     "output_type": "execute_result"
    }
   ],
   "source": [
    "short_df[['frame_index', 'track_id', 'xmin', 'ymin', 'width', 'height', 'conf', 'x', 'y', 'z']]"
   ]
  }
 ],
 "metadata": {
  "kernelspec": {
   "display_name": "Python 3.10.4 64-bit",
   "language": "python",
   "name": "python3"
  },
  "language_info": {
   "codemirror_mode": {
    "name": "ipython",
    "version": 3
   },
   "file_extension": ".py",
   "mimetype": "text/x-python",
   "name": "python",
   "nbconvert_exporter": "python",
   "pygments_lexer": "ipython3",
   "version": "3.10.4"
  },
  "vscode": {
   "interpreter": {
    "hash": "060cf0d219731f7604b08eb0df86b6bb7bc14ff264e0ba440cd2a71b4c6b44e7"
   }
  }
 },
 "nbformat": 4,
 "nbformat_minor": 5
}
